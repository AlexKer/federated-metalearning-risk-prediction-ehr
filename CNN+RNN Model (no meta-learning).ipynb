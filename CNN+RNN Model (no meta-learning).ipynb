{
 "cells": [
  {
   "cell_type": "code",
   "execution_count": 36,
   "metadata": {},
   "outputs": [],
   "source": [
    "# supress warnings\n",
    "import warnings\n",
    "warnings.simplefilter(action='ignore', category=FutureWarning)\n",
    "\n",
    "# load in data\n",
    "import torch\n",
    "tensor = torch.load('multivariate_time_matrix.pt')\n",
    "patients_visits_tensor = torch.load('patients_visits_tensor.pt')\n",
    "\n",
    "# cuda for gpu training\n",
    "cuda_available = torch.cuda.is_available()\n",
    "device = torch.device('cuda:0' if cuda_available else 'cpu')\n",
    "torch.backends.cudnn.benchmark = True\n",
    "\n",
    "from torch.utils.data import DataLoader\n",
    "from torch.utils.data import Dataset\n",
    "\n",
    "from torch.utils.tensorboard import SummaryWriter\n",
    "# Create a summary writer for logging with Tensorboard\n",
    "writer = SummaryWriter()\n",
    "\n",
    "# models\n",
    "from torch import nn\n",
    "import numpy as np"
   ]
  },
  {
   "cell_type": "code",
   "execution_count": 8,
   "metadata": {},
   "outputs": [
    {
     "name": "stdout",
     "output_type": "stream",
     "text": [
      "torch.Size([7537, 42, 856])\n",
      "torch.Size([7537])\n"
     ]
    }
   ],
   "source": [
    "# useful global dimension values\n",
    "tensor_shape = tensor.size()\n",
    "num_patients = tensor_shape[0]\n",
    "max_num_visits = tensor_shape[1]\n",
    "vocab_size = tensor_shape[2]\n",
    "print(tensor.size())\n",
    "print(patients_visits_tensor.size())"
   ]
  },
  {
   "cell_type": "code",
   "execution_count": 9,
   "metadata": {},
   "outputs": [],
   "source": [
    "# create features and labels by shifting data, specifically,\n",
    "# exclude last row vector=visits for features, and exclude first row vector=0 for labels\n",
    "\n",
    "def construct_input_and_label(tensor, patients_visits_tensor):\n",
    "    # 7537 (number of patients) x 42 (max number of visits) x 856 (number of unique icd code)\n",
    "    # how 'useful' visits there are or that are not padded\n",
    "    dims = patients_visits_tensor - 1\n",
    "    assert torch.max(dims) == 41\n",
    "    # maintain same dims as above\n",
    "    \n",
    "    X = torch.zeros(num_patients, max_num_visits-1, vocab_size)\n",
    "    y = torch.zeros(num_patients, max_num_visits-1, vocab_size)\n",
    "    # which visits are useful and not padding\n",
    "    mask = torch.zeros(num_patients, max_num_visits-1)\n",
    "    \n",
    "    for i in range(num_patients):\n",
    "        patient_tensor = tensor[i,:,:]\n",
    "        X[i,:,:] = patient_tensor[:-1,:] # include visits 1-41\n",
    "        y[i,:,:] = patient_tensor[1:,:] # include visits 2-42\n",
    "        #print(torch.sum(X[i,:,:]))\n",
    "        #print(torch.sum(y[i,:,:]))\n",
    "        mask[i,:dims[i]] = 1\n",
    "        \n",
    "    return X, y, mask, dims"
   ]
  },
  {
   "cell_type": "code",
   "execution_count": 10,
   "metadata": {},
   "outputs": [],
   "source": [
    "X, y, mask, dims = construct_input_and_label(tensor, patients_visits_tensor)\n",
    "# we need same input size X for RNN"
   ]
  },
  {
   "cell_type": "code",
   "execution_count": 22,
   "metadata": {},
   "outputs": [],
   "source": [
    "# get X, y with actual examples not padding and broken down by patient\n",
    "# X is of shape (12455, vocab_size), y is of shape (12455, vocab_size)\n",
    "stacked_X = torch.zeros(12456, vocab_size)\n",
    "stacked_y = torch.zeros(12456, vocab_size)\n",
    "count = 0\n",
    "for patient in range(num_patients):\n",
    "    for visit in range(max_num_visits-1):\n",
    "        # if not padding\n",
    "        if mask[patient,visit]:\n",
    "            # make feature vector, same visit bc x,y are aligned now\n",
    "            stacked_X[count,:] = X[patient,visit,:]\n",
    "            stacked_y[count,:] = y[patient,visit,:]\n",
    "            count += 1"
   ]
  },
  {
   "cell_type": "code",
   "execution_count": 27,
   "metadata": {},
   "outputs": [
    {
     "name": "stdout",
     "output_type": "stream",
     "text": [
      "torch.Size([7537, 41, 856])\n",
      "torch.Size([7537, 41, 856])\n",
      "torch.Size([12456, 856])\n",
      "torch.Size([12456, 856])\n",
      "There are 12456.0 actual visits that are not padding\n"
     ]
    }
   ],
   "source": [
    "print(X.shape)\n",
    "print(y.shape)\n",
    "print(stacked_X.shape)\n",
    "print(stacked_y.shape)\n",
    "print('There are {} actual visits that are not padding'.format(mask.sum()))"
   ]
  },
  {
   "cell_type": "code",
   "execution_count": 34,
   "metadata": {},
   "outputs": [
    {
     "name": "stdout",
     "output_type": "stream",
     "text": [
      "Label Cardinality 11.45\n",
      "Label Density 0.013\n"
     ]
    }
   ],
   "source": [
    "# calculate important metrics\n",
    "num_examples = stacked_X.shape[0]\n",
    "# Label Cardinality (LC) = average number of labels\n",
    "label_cardinality = stacked_X.sum()/num_examples \n",
    "# Label Density = LC divided by number of labels\n",
    "label_density = label_cardinality/vocab_size\n",
    "print('Label Cardinality {:.2f}'.format(label_cardinality))\n",
    "print('Label Density {:.3f}'.format(label_density))"
   ]
  },
  {
   "cell_type": "code",
   "execution_count": 54,
   "metadata": {},
   "outputs": [],
   "source": [
    "# convert one hot encoding to integer classes\n",
    "stacked_X_np = stacked_X.numpy()\n",
    "classes_list = []\n",
    "label_nums = []\n",
    "for i in range(num_examples):\n",
    "    classes_list.extend(np.where(stacked_X_np[i]==1)[0])\n",
    "    label_nums.append(len(np.where(stacked_X_np[i]==1)[0]))"
   ]
  },
  {
   "cell_type": "code",
   "execution_count": 61,
   "metadata": {},
   "outputs": [
    {
     "data": {
      "text/plain": [
       "Text(0, 0.5, 'count')"
      ]
     },
     "execution_count": 61,
     "metadata": {},
     "output_type": "execute_result"
    },
    {
     "data": {
      "image/png": "[encoded data removed]",
      "text/plain": [
       "<Figure size 432x288 with 1 Axes>"
      ]
     },
     "metadata": {
      "needs_background": "light"
     },
     "output_type": "display_data"
    }
   ],
   "source": [
    "# plot distributions 1. label class distribution 2. number of labels per example distribution\n",
    "import matplotlib.pyplot as plt\n",
    "plt.hist(classes_list, color='blue', edgecolor='black', bins=vocab_size)\n",
    "plt.title('frequency of ICU codes')\n",
    "plt.xlabel('label')\n",
    "plt.ylabel('count')"
   ]
  },
  {
   "cell_type": "code",
   "execution_count": 62,
   "metadata": {},
   "outputs": [
    {
     "data": {
      "text/plain": [
       "Text(0, 0.5, 'count')"
      ]
     },
     "execution_count": 62,
     "metadata": {},
     "output_type": "execute_result"
    },
    {
     "data": {
      "image/png": "[encoded data removed]",
      "text/plain": [
       "<Figure size 432x288 with 1 Axes>"
      ]
     },
     "metadata": {
      "needs_background": "light"
     },
     "output_type": "display_data"
    }
   ],
   "source": [
    "plt.hist(label_nums, color='blue', edgecolor='black', bins=vocab_size)\n",
    "plt.title('number of diagnoises per example')\n",
    "plt.xlabel('number of labels')\n",
    "plt.ylabel('count')"
   ]
  },
  {
   "cell_type": "code",
   "execution_count": 64,
   "metadata": {},
   "outputs": [
    {
     "name": "stdout",
     "output_type": "stream",
     "text": [
      "Loss: 0.693\n",
      "Loss: 0.693\n",
      "Loss: 0.693\n",
      "Loss: 0.693\n",
      "Loss: 0.693\n",
      "Loss: 0.693\n",
      "Loss: 0.693\n",
      "Loss: 0.693\n",
      "Loss: 0.693\n",
      "Loss: 0.693\n"
     ]
    }
   ],
   "source": [
    "# linear model aX+b trained on entire dataset, model too simple\n",
    "model = nn.Linear(in_features=vocab_size, out_features=vocab_size)\n",
    "\n",
    "criterion = nn.BCEWithLogitsLoss()\n",
    "optimizer = torch.optim.SGD(model.parameters(), lr=1e-3)\n",
    "\n",
    "for epoch in range(10):\n",
    "    optimizer.zero_grad()\n",
    "    output = model(stacked_X)\n",
    "    loss = criterion(output, stacked_y)\n",
    "    loss.backward()\n",
    "    optimizer.step()\n",
    "    print('Loss: {:.3f}'.format(loss.item()))"
   ]
  },
  {
   "cell_type": "code",
   "execution_count": 6,
   "metadata": {},
   "outputs": [],
   "source": [
    "# Override Dataset Loader\n",
    "class icdDataset(Dataset):\n",
    "    def __init__(self, X, y):\n",
    "        self.X = X\n",
    "        self.y = y\n",
    "    def __len__(self):\n",
    "        # the last sample is not used\n",
    "        return len(self.X)\n",
    "    def __getitem(self, index):\n",
    "        # Generate one sample of data from a patient\n",
    "        return self.X[index], self.y[index]\n",
    "    \n",
    "dataset = icdDataset(X, y)\n",
    "num_samples = X.size()[0]\n",
    "import math\n",
    "# 80/20 split\n",
    "training_set, validation_set = torch.utils.data.random_split(dataset,\n",
    "    [math.ceil(num_samples*0.8),math.floor(num_samples*0.2)])\n",
    "    \n",
    "# Parameters\n",
    "params = {'batch_size': 5, \n",
    "          'shuffle': True,\n",
    "          'num_workers': 2}\n",
    "epochs = 20\n",
    "\n",
    "training_loader = DataLoader(training_set, **params)\n",
    "validation_loader = DataLoader(validation_set, **params)"
   ]
  },
  {
   "cell_type": "code",
   "execution_count": null,
   "metadata": {},
   "outputs": [],
   "source": [
    "# PCA to map down vocab to lower dimension for classifier\n",
    "def PCA_analysis(X, y=):\n",
    "    from sklearn.decomposition import PCA\n",
    "    import matplotlib.pyplot as plt\n",
    "    import numpy as np\n",
    "    X_arr, y_arr = X.numpy(), y.numpy()\n",
    "    # num_patients*max_num_visits=num of examples\n",
    "    X_arr = X_arr.reshape(-1, vocab_size) \n",
    "\n",
    "    # fit PCA on training set only\n",
    "    pca = PCA().fit(X_arr)\n",
    "    feature_list = list(range(vocab_size))\n",
    "    percent_variance = np.round(pca.explained_variance_ratio_*100, decimals=2)\n",
    "    \n",
    "    # graph scree plot\n",
    "    plt.figure(figsize=(25,10))\n",
    "    plt.plot(feature_list, percent_variance, marker='x', markersize=10)\n",
    "    plt.ylabel('Percentage of Variance Explained')\n",
    "    plt.xlabel('Principal Component')\n",
    "    plt.title('PCA Scree Plot')\n",
    "    plt.show()\n",
    "    \n",
    "    \n",
    "#     pca = PCA(n_components=250).fit(X_train)\n",
    "#     X_train = pca.transform(X_train)\n",
    "#     X_test = pca.transform(X_test)"
   ]
  },
  {
   "cell_type": "code",
   "execution_count": 9,
   "metadata": {},
   "outputs": [
    {
     "data": {
      "text/plain": [
       "<torch.utils.data.dataset.Subset at 0x7fcde0cc0dd0>"
      ]
     },
     "execution_count": 9,
     "metadata": {},
     "output_type": "execute_result"
    }
   ],
   "source": [
    "training_set"
   ]
  },
  {
   "cell_type": "code",
   "execution_count": 11,
   "metadata": {},
   "outputs": [
    {
     "ename": "SyntaxError",
     "evalue": "unexpected EOF while parsing (<ipython-input-11-191bbdc6c80d>, line 1)",
     "output_type": "error",
     "traceback": [
      "\u001b[0;36m  File \u001b[0;32m\"<ipython-input-11-191bbdc6c80d>\"\u001b[0;36m, line \u001b[0;32m1\u001b[0m\n\u001b[0;31m    class MLP(nn.Module):\u001b[0m\n\u001b[0m                         ^\u001b[0m\n\u001b[0;31mSyntaxError\u001b[0m\u001b[0;31m:\u001b[0m unexpected EOF while parsing\n"
     ]
    }
   ],
   "source": [
    "class MLP(nn.Module):\n",
    "    def __init__(self):\n",
    "        super(MLP,self).__init__():\n",
    "            self.embedding"
   ]
  },
  {
   "cell_type": "code",
   "execution_count": null,
   "metadata": {},
   "outputs": [],
   "source": [
    "import torch.nn\n",
    "# CNN architecture\n",
    "class CNNModel(nn.Module):\n",
    "    def __init__(self):\n",
    "        super(CNNModel,self).__init__()\n",
    "        norm_layer = torch.nn.BatchNorm2d\n",
    "        \n",
    "        \n",
    "    def forward(self,x):\n",
    "        \n",
    "        \n",
    "# LSTM architecture\n",
    "class LSTMModel(nn.Module):\n",
    "    def __init__(self):\n",
    "        super(LSTMModel,self).__init__()\n",
    "    def forward(self,x)"
   ]
  },
  {
   "cell_type": "code",
   "execution_count": null,
   "metadata": {},
   "outputs": [],
   "source": [
    "# training loop\n"
   ]
  },
  {
   "cell_type": "code",
   "execution_count": null,
   "metadata": {},
   "outputs": [],
   "source": [
    "# TODO:\n",
    "# alternative: PCA if embedding layer does not work for good representation:\n",
    "\n",
    "# time series sequence prediction\n",
    "\n",
    "# time series sequence classifcation\n",
    "\n",
    "# time series sequence meta-learning, determine disease labels\n",
    "\n",
    "# include argparse later\n",
    "\n",
    "# k-fold validation because of small dataset"
   ]
  }
 ],
 "metadata": {
  "kernelspec": {
   "display_name": "Python 3",
   "language": "python",
   "name": "python3"
  },
  "language_info": {
   "codemirror_mode": {
    "name": "ipython",
    "version": 3
   },
   "file_extension": ".py",
   "mimetype": "text/x-python",
   "name": "python",
   "nbconvert_exporter": "python",
   "pygments_lexer": "ipython3",
   "version": "3.7.7"
  }
 },
 "nbformat": 4,
 "nbformat_minor": 4
}
