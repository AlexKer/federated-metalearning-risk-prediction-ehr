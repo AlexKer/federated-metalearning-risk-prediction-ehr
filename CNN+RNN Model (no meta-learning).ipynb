{
 "cells": [
  {
   "cell_type": "code",
   "execution_count": 2,
   "metadata": {},
   "outputs": [],
   "source": [
    "# supress warnings\n",
    "import warnings\n",
    "warnings.simplefilter(action='ignore', category=FutureWarning)\n",
    "\n",
    "# load in data\n",
    "import torch\n",
    "tensor = torch.load('multivariate_time_matrix.pt')\n",
    "patients_visits_tensor = torch.load('patients_visits_tensor.pt')\n",
    "\n",
    "# cuda for gpu training\n",
    "cuda_available = torch.cuda.is_available()\n",
    "device = torch.device('cuda:0' if cuda_available else 'cpu')\n",
    "torch.backends.cudnn.benchmark = True\n",
    "\n",
    "from torch.utils.data import DataLoader\n",
    "from torch.utils.data import Dataset\n",
    "\n",
    "from torch.utils.tensorboard import SummaryWriter\n",
    "# Create a summary writer for logging with Tensorboard\n",
    "writer = SummaryWriter()"
   ]
  },
  {
   "cell_type": "code",
   "execution_count": 65,
   "metadata": {},
   "outputs": [
    {
     "name": "stdout",
     "output_type": "stream",
     "text": [
      "torch.Size([7537, 42, 856])\n",
      "torch.Size([7537])\n"
     ]
    }
   ],
   "source": [
    "# useful global dimension values\n",
    "tensor_shape = tensor.size()\n",
    "num_patients = tensor_shape[0]\n",
    "max_num_visits = tensor_shape[1]\n",
    "vocab_size = tensor_shape[2]\n",
    "print(tensor.size())\n",
    "print(patients_visits_tensor.size())"
   ]
  },
  {
   "cell_type": "code",
   "execution_count": 68,
   "metadata": {},
   "outputs": [],
   "source": [
    "# create features and labels by shifting data, specifically,\n",
    "# exclude last row vector=visits for features, and exclude first row vector=0 for labels\n",
    "\n",
    "def construct_input_and_label(tensor, patients_visits_tensor):\n",
    "    # 7537 (number of patients) x 42 (max number of visits) x 856 (number of unique icd code)\n",
    "    # how 'useful' visits there are or that are not padded\n",
    "    dims = patients_visits_tensor - 1\n",
    "    assert torch.max(dims) == 3\n",
    "    # maintain same dims as above\n",
    "    \n",
    "    X = torch.zeros(num_patients, max_num_visits-1, vocab_size)\n",
    "    y = torch.zeros(num_patients, max_num_visits-1, vocab_size)\n",
    "    # which visits are useful and not padding\n",
    "    mask = torch.zeros(num_patients, max_num_visits-1)\n",
    "    \n",
    "    for i in range(num_patients):\n",
    "        patient_tensor = tensor[i,:,:]\n",
    "        X[i,:,:] = patient_tensor[:-1,:] # include visits 1-41\n",
    "        y[i,:,:] = patient_tensor[1:,:] # include visits 2-42\n",
    "        mask[i,:dims[i]] = 1\n",
    "        \n",
    "    return X, y, mask, dims\n",
    "\n",
    "def PCA_analysis(X):\n",
    "    from sklearn.decomposition import PCA\n",
    "    import matplotlib.pyplot as plt\n",
    "    import numpy as np\n",
    "    X_arr, y_arr = X.numpy(), y.numpy()\n",
    "    # num_patients*max_num_visits=num of examples\n",
    "    X_arr = X_arr.reshape(-1, vocab_size) \n",
    "\n",
    "    # fit PCA on training set only\n",
    "    pca = PCA().fit(X_arr)\n",
    "    feature_list = list(range(vocab_size))\n",
    "    percent_variance = np.round(pca.explained_variance_ratio_*100, decimals=2)\n",
    "    \n",
    "    # graph scree plot\n",
    "    plt.figure(figsize=(25,10))\n",
    "    plt.plot(feature_list, percent_variance, marker='x', markersize=10)\n",
    "    plt.ylabel('Percentage of Variance Explained')\n",
    "    plt.xlabel('Principal Component')\n",
    "    plt.title('PCA Scree Plot')\n",
    "    plt.show()\n",
    "    \n",
    "    \n",
    "#     pca = PCA(n_components=250).fit(X_train)\n",
    "#     X_train = pca.transform(X_train)\n",
    "#     X_test = pca.transform(X_test)"
   ]
  },
  {
   "cell_type": "code",
   "execution_count": 69,
   "metadata": {},
   "outputs": [
    {
     "name": "stdout",
     "output_type": "stream",
     "text": [
      "tensor(41, dtype=torch.int32)\n"
     ]
    }
   ],
   "source": [
    "X, y, mask, dims = construct_input_and_label(tensor, patients_visits_tensor)\n",
    "# PCA_analysis(X)"
   ]
  },
  {
   "cell_type": "code",
   "execution_count": 17,
   "metadata": {},
   "outputs": [
    {
     "name": "stdout",
     "output_type": "stream",
     "text": [
      "torch.Size([7537, 41, 856])\n",
      "torch.Size([7537, 41, 856])\n",
      "There are 12456.0 actual visits that are not padding\n"
     ]
    }
   ],
   "source": [
    "print(X.shape)\n",
    "print(y.shape)\n",
    "print('There are {} actual visits that are not padding'.format(mask.sum()))"
   ]
  },
  {
   "cell_type": "code",
   "execution_count": 59,
   "metadata": {},
   "outputs": [
    {
     "name": "stdout",
     "output_type": "stream",
     "text": [
      "Loss: 0.819\n",
      "Loss: 0.679\n",
      "Loss: 0.569\n",
      "Loss: 0.484\n",
      "Loss: 0.417\n",
      "Loss: 0.364\n",
      "Loss: 0.322\n",
      "Loss: 0.287\n",
      "Loss: 0.258\n",
      "Loss: 0.235\n",
      "Loss: 0.214\n",
      "Loss: 0.197\n",
      "Loss: 0.182\n",
      "Loss: 0.169\n",
      "Loss: 0.158\n",
      "Loss: 0.148\n",
      "Loss: 0.139\n",
      "Loss: 0.131\n",
      "Loss: 0.124\n",
      "Loss: 0.118\n"
     ]
    }
   ],
   "source": [
    "from torch import nn\n",
    "model = nn.Linear(20, 5) # predict logits for 5 classes\n",
    "x = torch.randn(1, 20)\n",
    "y = torch.tensor([[1., 0., 1., 0., 0.]]) # get classA and classC as active\n",
    "\n",
    "criterion = nn.BCEWithLogitsLoss()\n",
    "optimizer = torch.optim.SGD(model.parameters(), lr=1e-1)\n",
    "\n",
    "for epoch in range(20):\n",
    "    optimizer.zero_grad()\n",
    "    output = model(x)\n",
    "    loss = criterion(output, y)\n",
    "    loss.backward()\n",
    "    optimizer.step()\n",
    "    print('Loss: {:.3f}'.format(loss.item()))"
   ]
  },
  {
   "cell_type": "code",
   "execution_count": 6,
   "metadata": {},
   "outputs": [],
   "source": [
    "# Override Dataset Loader\n",
    "class icdDataset(Dataset):\n",
    "    def __init__(self, X, y):\n",
    "        self.X = X\n",
    "        self.y = y\n",
    "    def __len__(self):\n",
    "        # the last sample is not used\n",
    "        return len(self.X)\n",
    "    def __getitem(self, index):\n",
    "        # Generate one sample of data from a patient\n",
    "        return self.X[index], self.y[index]\n",
    "    \n",
    "dataset = icdDataset(X, y)\n",
    "num_samples = X.size()[0]\n",
    "import math\n",
    "# 80/20 split\n",
    "training_set, validation_set = torch.utils.data.random_split(dataset,\n",
    "    [math.ceil(num_samples*0.8),math.floor(num_samples*0.2)])\n",
    "    \n",
    "# Parameters\n",
    "params = {'batch_size': 5, \n",
    "          'shuffle': True,\n",
    "          'num_workers': 2}\n",
    "epochs = 20\n",
    "\n",
    "training_loader = DataLoader(training_set, **params)\n",
    "validation_loader = DataLoader(validation_set, **params)"
   ]
  },
  {
   "cell_type": "code",
   "execution_count": 9,
   "metadata": {},
   "outputs": [
    {
     "data": {
      "text/plain": [
       "<torch.utils.data.dataset.Subset at 0x7fcde0cc0dd0>"
      ]
     },
     "execution_count": 9,
     "metadata": {},
     "output_type": "execute_result"
    }
   ],
   "source": [
    "training_set"
   ]
  },
  {
   "cell_type": "code",
   "execution_count": 11,
   "metadata": {},
   "outputs": [
    {
     "ename": "SyntaxError",
     "evalue": "unexpected EOF while parsing (<ipython-input-11-191bbdc6c80d>, line 1)",
     "output_type": "error",
     "traceback": [
      "\u001b[0;36m  File \u001b[0;32m\"<ipython-input-11-191bbdc6c80d>\"\u001b[0;36m, line \u001b[0;32m1\u001b[0m\n\u001b[0;31m    class MLP(nn.Module):\u001b[0m\n\u001b[0m                         ^\u001b[0m\n\u001b[0;31mSyntaxError\u001b[0m\u001b[0;31m:\u001b[0m unexpected EOF while parsing\n"
     ]
    }
   ],
   "source": [
    "class MLP(nn.Module):\n",
    "    def __init__(self):\n",
    "        super(MLP,self).__init__():\n",
    "            self.embedding"
   ]
  },
  {
   "cell_type": "code",
   "execution_count": null,
   "metadata": {},
   "outputs": [],
   "source": [
    "import torch.nn\n",
    "# CNN architecture\n",
    "class CNNModel(nn.Module):\n",
    "    def __init__(self):\n",
    "        super(CNNModel,self).__init__()\n",
    "        norm_layer = torch.nn.BatchNorm2d\n",
    "        \n",
    "        \n",
    "    def forward(self,x):\n",
    "        \n",
    "        \n",
    "# LSTM architecture\n",
    "class LSTMModel(nn.Module):\n",
    "    def __init__(self):\n",
    "        super(LSTMModel,self).__init__()\n",
    "    def forward(self,x)"
   ]
  },
  {
   "cell_type": "code",
   "execution_count": null,
   "metadata": {},
   "outputs": [],
   "source": [
    "# training loop\n"
   ]
  },
  {
   "cell_type": "code",
   "execution_count": null,
   "metadata": {},
   "outputs": [],
   "source": [
    "# TODO:\n",
    "# alternative: PCA if embedding layer does not work for good representation:\n",
    "\n",
    "# time series sequence prediction\n",
    "\n",
    "# time series sequence classifcation\n",
    "\n",
    "# time series sequence meta-learning, determine disease labels\n",
    "\n",
    "# include argparse later\n",
    "\n",
    "# k-fold validation because of small dataset"
   ]
  }
 ],
 "metadata": {
  "kernelspec": {
   "display_name": "Python 3",
   "language": "python",
   "name": "python3"
  },
  "language_info": {
   "codemirror_mode": {
    "name": "ipython",
    "version": 3
   },
   "file_extension": ".py",
   "mimetype": "text/x-python",
   "name": "python",
   "nbconvert_exporter": "python",
   "pygments_lexer": "ipython3",
   "version": "3.7.7"
  }
 },
 "nbformat": 4,
 "nbformat_minor": 4
}
