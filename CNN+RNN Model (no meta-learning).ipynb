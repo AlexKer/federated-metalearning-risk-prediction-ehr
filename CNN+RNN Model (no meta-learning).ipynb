{
 "cells": [
  {
   "cell_type": "code",
   "execution_count": 4,
   "metadata": {},
   "outputs": [],
   "source": [
    "# load in saved multivariate_time_matrix i.e. our dataset\n",
    "import torch\n",
    "tensor = torch.load('multivariate_time_matrix.pt')\n",
    "\n",
    "# cuda for gpu training\n",
    "cuda_available = torch.cuda.is_available()\n",
    "device = torch.device('cuda:0' if cuda_available else 'cpu')\n",
    "torch.backends.cudnn.benchmark = True\n",
    "\n",
    "from torch.utils.data import DataLoader\n",
    "from torch.utils.data import Dataset\n",
    "\n",
    "# from torch.utils.tensorboard import SummaryWriter\n",
    "# Create a summary writer for logging with Tensorboard\n",
    "# writer = SummaryWriter()"
   ]
  },
  {
   "cell_type": "code",
   "execution_count": 10,
   "metadata": {},
   "outputs": [
    {
     "data": {
      "text/plain": [
       "7537"
      ]
     },
     "execution_count": 10,
     "metadata": {},
     "output_type": "execute_result"
    }
   ],
   "source": [
    "tensor.size()[0]"
   ]
  },
  {
   "cell_type": "code",
   "execution_count": null,
   "metadata": {},
   "outputs": [],
   "source": [
    "def padding(seqs, labels, inputDimSize, numClass):\n",
    "    lengths = np.array([len(seq) for seq in seqs]) - 1\n",
    "    maxlen = np.max(lengths)\n",
    "    num_samples = len(seqs)\n",
    "    \n",
    "\n",
    "    x = torch.zeros(maxlen, num_samples, inputDimSize)\n",
    "    y = torch.zeros(maxlen, num_samples, numClass)\n",
    "    mask = torch.zeros(maxlen, num_samples)\n",
    "\n",
    "    for idx, (seq, label) in enumerate(zip(seqs, labels)):\n",
    "        for xvec, subseq in zip(x[:, idx, :], seq[:-1]):\n",
    "            xvec[subseq] = 1.\n",
    "        for yvec, subseq in zip(y[:, idx, :], label[1:]):\n",
    "            yvec[subseq] = 1. \n",
    "\n",
    "        mask[:lengths[idx], idx] = 1.\n",
    "\n",
    "    lengths = torch.LongTensor(lengths)\n",
    "    return x, y, mask, lengths"
   ]
  },
  {
   "cell_type": "code",
   "execution_count": null,
   "metadata": {},
   "outputs": [],
   "source": [
    "class patientDataset(Dataset):\n",
    "    # tensor represents the time series data for one patient only\n",
    "    # 42 (max number of visits) x 856 (number of unique icd code)\n",
    "    def __init__(self, tensor):\n",
    "        self.samples = tensor\n",
    "    def __len__(self):\n",
    "        # the last sample is not used\n",
    "        return self.samples.size()[0]-1\n",
    "    def __getitem(self, index):\n",
    "        # Generate one sample of data from a patient\n",
    "        X = self.sample[index,:]\n",
    "        y = self.index[index+1,:]\n",
    "        return X, y\n",
    "    \n",
    "# Parameters\n",
    "params = {'batch_size': 5, \n",
    "          'shuffle': True;\n",
    "          'num_workers': 6}\n",
    "\n",
    "# for each iter of training loop\n",
    "patient_set = patientDataset(tensor[0,:,:])\n",
    "patient_generator = DataLoader(patient_set, **params)\n",
    "\n",
    "        "
   ]
  },
  {
   "cell_type": "code",
   "execution_count": null,
   "metadata": {},
   "outputs": [],
   "source": [
    "import argparse\n",
    "parser = argparse.ArgumentParser(fromfile_prefix_chars='@')\n",
    "\n",
    "parser_control = parser.add_argument_group('control options')\n",
    "parser_control.add_argument('--infer',action='store_true')\n",
    "parser_control.add_argument('--train',action='store_true')\n",
    "\n",
    "parser_data = parser.add_argument_group('data options')\n",
    "parser_data.add_argument('--data',default='names')\n",
    "\n",
    "parser_model = parser.add_argument_group('model options')\n",
    "parser_model.add_argument('--model',choices=['cnn','rnn','gru','lstm'],default='rnn')\n",
    "parser_model.add_argument('--hidden_layer_size',type=int,default=128)\n",
    "parser_model.add_argument('--num_layers',type=int,default=1)\n",
    "\n",
    "parser_opt = parser.add_argument_group('optimization options')\n",
    "parser_opt.add_argument('--batch_size',type=int,default=1)\n",
    "parser_opt.add_argument('--learning_rate',type=float,default=1e-1)\n",
    "parser_opt.add_argument('--optimizer',choices=['sgd','adam'],default='sgd')\n",
    "parser_opt.add_argument('--gradient_clipping',action='store_true')\n",
    "parser_opt.add_argument('--momentum',type=float,default=0.9)\n",
    "parser_opt.add_argument('--weight_decay',type=float,default=1e-4)\n",
    "parser_opt.add_argument('--samples',type=int,default=10000)\n",
    "parser_opt.add_argument('--input_length',type=int,default=20)\n",
    "parser_opt.add_argument('--warm_start')\n",
    "\n",
    "parser_debug = parser.add_argument_group('debug options')\n",
    "parser_debug.add_argument('--print_delay',type=int,default=5)\n",
    "parser_debug.add_argument('--log_dir',type=str)\n",
    "parser_debug.add_argument('--save_every',type=int,default=1000)"
   ]
  },
  {
   "cell_type": "code",
   "execution_count": null,
   "metadata": {},
   "outputs": [],
   "source": [
    "# create features and labels by shifting data, specifically,\n",
    "# exclude last row vector=visits for features, and exclude first row vector=0 for labels\n",
    "\n",
    "# must do pca after this\n",
    "def create_datasets(tensor):\n",
    "    x_train = tensor[:,:]\n",
    "\n",
    "# time series sequence prediction\n",
    "\n",
    "# time series sequence classifcation\n",
    "\n",
    "# time series sequence meta-learning, determine disease labels"
   ]
  }
 ],
 "metadata": {
  "kernelspec": {
   "display_name": "Python 3",
   "language": "python",
   "name": "python3"
  },
  "language_info": {
   "codemirror_mode": {
    "name": "ipython",
    "version": 3
   },
   "file_extension": ".py",
   "mimetype": "text/x-python",
   "name": "python",
   "nbconvert_exporter": "python",
   "pygments_lexer": "ipython3",
   "version": "3.7.7"
  }
 },
 "nbformat": 4,
 "nbformat_minor": 4
}
