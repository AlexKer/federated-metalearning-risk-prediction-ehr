{
 "cells": [
  {
   "cell_type": "code",
   "execution_count": 21,
   "metadata": {},
   "outputs": [],
   "source": [
    "# load in saved multivariate_time_matrix i.e. our dataset\n",
    "import torch\n",
    "tensor = torch.load('multivariate_time_matrix.pt')\n",
    "patients_visits_tensor = torch.load('patients_visits_tensor.pt')\n",
    "\n",
    "# cuda for gpu training\n",
    "cuda_available = torch.cuda.is_available()\n",
    "device = torch.device('cuda:0' if cuda_available else 'cpu')\n",
    "torch.backends.cudnn.benchmark = True\n",
    "\n",
    "from torch.utils.data import DataLoader\n",
    "from torch.utils.data import Dataset\n",
    "\n",
    "# from torch.utils.tensorboard import SummaryWriter\n",
    "# Create a summary writer for logging with Tensorboard\n",
    "# writer = SummaryWriter()"
   ]
  },
  {
   "cell_type": "code",
   "execution_count": 23,
   "metadata": {},
   "outputs": [],
   "source": [
    "# create features and labels by shifting data, specifically,\n",
    "# exclude last row vector=visits for features, and exclude first row vector=0 for labels\n",
    "\n",
    "def construct_input_and_label(tensor, patients_visits_tensor):\n",
    "    # 7537 (number of patients) x 42 (max number of visits) x 856 (number of unique icd code)\n",
    "    # how 'useful' visits there are or that are not padded\n",
    "    dims = patients_visits_tensor - 1\n",
    "    # print(dims)\n",
    "    # maintain same dims as above\n",
    "    tensor_shape = tensor.size()\n",
    "    num_patients = tensor_shape[0]\n",
    "    max_num_visit = tensor_shape[1]\n",
    "    vocab_size = tensor_shape[2]\n",
    "    \n",
    "    X = torch.zeros(num_patients, max_num_visit-1, vocab_size)\n",
    "    y = torch.zeros(num_patients, max_num_visit-1, vocab_size)\n",
    "    # which visits are useful and not padding\n",
    "    mask = torch.zeros(num_patients, max_num_visit-1)\n",
    "    \n",
    "    for i in range(num_patients):\n",
    "        patient_tensor = tensor[i,:,:]\n",
    "        X[i,:,:] = patient_tensor[:-1,:]\n",
    "        y[i,:,:] = patient_tensor[1:,:]\n",
    "        mask[i,:dims[i]] = 1\n",
    "    \n",
    "    return X, y, mask, dims\n",
    "\n",
    "X, y, mask, dims = construct_input_and_label(tensor, patients_visits_tensor)"
   ]
  },
  {
   "cell_type": "code",
   "execution_count": 37,
   "metadata": {},
   "outputs": [],
   "source": [
    "assert X.shape == (7537, 41, 856)"
   ]
  },
  {
   "cell_type": "code",
   "execution_count": 33,
   "metadata": {},
   "outputs": [],
   "source": [
    "# Override Dataset Loader\n",
    "class icdDataset(Dataset):\n",
    "    def __init__(self, X, y):\n",
    "        self.X = X\n",
    "        self.y = y\n",
    "    def __len__(self):\n",
    "        # the last sample is not used\n",
    "        return len(self.X)\n",
    "    def __getitem(self, index):\n",
    "        # Generate one sample of data from a patient\n",
    "        return self.X[index], self.y[index]\n",
    "    \n",
    "dataset = icdDataset(X, y)\n",
    "num_samples = X.size()[0]\n",
    "import math\n",
    "training_set, validation_set = torch.utils.data.random_split(dataset,\n",
    "    [math.ceil(num_samples*0.8),math.floor(num_samples*0.2)])\n",
    "    \n",
    "# Parameters\n",
    "params = {'batch_size': 5, \n",
    "          'shuffle': True,\n",
    "          'num_workers': 2}\n",
    "epochs = 20\n",
    "\n",
    "training_loader = DataLoader(training_set, **params)\n",
    "validation_loader = DataLoader(validation_set, **params)"
   ]
  },
  {
   "cell_type": "code",
   "execution_count": null,
   "metadata": {},
   "outputs": [],
   "source": [
    "# CNN architecture\n",
    "class CNNModel(nn.Module):\n",
    "    def __init__(self):\n",
    "        super(CNNModel,self).__init__()\n",
    "    def forward(self,x):\n",
    "        \n",
    "        \n",
    "# LSTM architecture\n",
    "class LSTMModel(nn.Module):\n",
    "    def __init__(self):\n",
    "        super(LSTMModel,self).__init__()\n",
    "    def forward(self,x)"
   ]
  },
  {
   "cell_type": "code",
   "execution_count": null,
   "metadata": {},
   "outputs": [],
   "source": [
    "# training loop\n"
   ]
  },
  {
   "cell_type": "code",
   "execution_count": null,
   "metadata": {},
   "outputs": [],
   "source": [
    "# alternative if embedding does not work:\n",
    "\n",
    "# time series sequence prediction\n",
    "\n",
    "# time series sequence classifcation\n",
    "\n",
    "# time series sequence meta-learning, determine disease labels\n",
    "\n",
    "# include argparse later"
   ]
  }
 ],
 "metadata": {
  "kernelspec": {
   "display_name": "Python 3",
   "language": "python",
   "name": "python3"
  },
  "language_info": {
   "codemirror_mode": {
    "name": "ipython",
    "version": 3
   },
   "file_extension": ".py",
   "mimetype": "text/x-python",
   "name": "python",
   "nbconvert_exporter": "python",
   "pygments_lexer": "ipython3",
   "version": "3.7.7"
  }
 },
 "nbformat": 4,
 "nbformat_minor": 4
}
