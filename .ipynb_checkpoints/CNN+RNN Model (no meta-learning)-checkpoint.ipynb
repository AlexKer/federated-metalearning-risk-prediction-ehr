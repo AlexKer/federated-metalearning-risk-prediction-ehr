{
 "cells": [
  {
   "cell_type": "code",
   "execution_count": 3,
   "metadata": {},
   "outputs": [
    {
     "data": {
      "text/plain": [
       "tensor([[[0., 0., 0.,  ..., 0., 0., 0.],\n",
       "         [0., 0., 0.,  ..., 0., 0., 0.],\n",
       "         [0., 0., 0.,  ..., 0., 0., 0.],\n",
       "         ...,\n",
       "         [0., 0., 0.,  ..., 0., 0., 0.],\n",
       "         [0., 0., 0.,  ..., 0., 0., 0.],\n",
       "         [0., 0., 0.,  ..., 0., 0., 0.]],\n",
       "\n",
       "        [[0., 0., 0.,  ..., 0., 0., 0.],\n",
       "         [0., 0., 0.,  ..., 0., 0., 0.],\n",
       "         [0., 0., 0.,  ..., 0., 0., 0.],\n",
       "         ...,\n",
       "         [0., 0., 0.,  ..., 0., 0., 0.],\n",
       "         [0., 0., 0.,  ..., 0., 0., 0.],\n",
       "         [0., 0., 0.,  ..., 0., 0., 0.]],\n",
       "\n",
       "        [[0., 0., 0.,  ..., 0., 0., 0.],\n",
       "         [0., 0., 0.,  ..., 0., 0., 0.],\n",
       "         [0., 0., 0.,  ..., 0., 0., 0.],\n",
       "         ...,\n",
       "         [0., 0., 0.,  ..., 0., 0., 0.],\n",
       "         [0., 0., 0.,  ..., 0., 0., 0.],\n",
       "         [0., 0., 0.,  ..., 0., 0., 0.]],\n",
       "\n",
       "        ...,\n",
       "\n",
       "        [[0., 0., 0.,  ..., 0., 0., 0.],\n",
       "         [0., 0., 0.,  ..., 0., 0., 0.],\n",
       "         [0., 0., 0.,  ..., 0., 0., 0.],\n",
       "         ...,\n",
       "         [0., 0., 0.,  ..., 0., 0., 0.],\n",
       "         [0., 0., 0.,  ..., 0., 0., 0.],\n",
       "         [0., 0., 0.,  ..., 0., 0., 0.]],\n",
       "\n",
       "        [[0., 0., 0.,  ..., 0., 0., 0.],\n",
       "         [0., 0., 0.,  ..., 0., 0., 0.],\n",
       "         [0., 0., 0.,  ..., 0., 0., 0.],\n",
       "         ...,\n",
       "         [0., 0., 0.,  ..., 0., 0., 0.],\n",
       "         [0., 0., 0.,  ..., 0., 0., 0.],\n",
       "         [0., 0., 0.,  ..., 0., 0., 0.]],\n",
       "\n",
       "        [[0., 0., 0.,  ..., 0., 0., 0.],\n",
       "         [0., 0., 0.,  ..., 0., 0., 0.],\n",
       "         [0., 0., 0.,  ..., 0., 0., 0.],\n",
       "         ...,\n",
       "         [0., 0., 0.,  ..., 0., 0., 0.],\n",
       "         [0., 0., 0.,  ..., 0., 0., 0.],\n",
       "         [0., 0., 0.,  ..., 0., 0., 0.]]], dtype=torch.float64)"
      ]
     },
     "execution_count": 3,
     "metadata": {},
     "output_type": "execute_result"
    }
   ],
   "source": [
    "# load in saved matrix\n",
    "import torch\n",
    "tensor = torch.load('multivariate_time_matrix.pt')\n",
    "tensor"
   ]
  },
  {
   "cell_type": "code",
   "execution_count": null,
   "metadata": {},
   "outputs": [],
   "source": [
    "import argparse\n",
    "parser = argparse.ArgumentParser(fromfile_prefix_chars='@')\n",
    "\n",
    "parser_control = parser.add_argument_group('control options')\n",
    "parser_control.add_argument('--infer',action='store_true')\n",
    "parser_control.add_argument('--train',action='store_true')\n",
    "\n",
    "parser_data = parser.add_argument_group('data options')\n",
    "parser_data.add_argument('--data',default='names')\n",
    "\n",
    "parser_model = parser.add_argument_group('model options')\n",
    "parser_model.add_argument('--model',choices=['cnn','rnn','gru','lstm'],default='rnn')\n",
    "parser_model.add_argument('--hidden_layer_size',type=int,default=128)\n",
    "parser_model.add_argument('--num_layers',type=int,default=1)\n",
    "\n",
    "parser_opt = parser.add_argument_group('optimization options')\n",
    "parser_opt.add_argument('--batch_size',type=int,default=1)\n",
    "parser_opt.add_argument('--learning_rate',type=float,default=1e-1)\n",
    "parser_opt.add_argument('--optimizer',choices=['sgd','adam'],default='sgd')\n",
    "parser_opt.add_argument('--gradient_clipping',action='store_true')\n",
    "parser_opt.add_argument('--momentum',type=float,default=0.9)\n",
    "parser_opt.add_argument('--weight_decay',type=float,default=1e-4)\n",
    "parser_opt.add_argument('--samples',type=int,default=10000)\n",
    "parser_opt.add_argument('--input_length',type=int,default=20)\n",
    "parser_opt.add_argument('--warm_start')\n",
    "\n",
    "parser_debug = parser.add_argument_group('debug options')\n",
    "parser_debug.add_argument('--print_delay',type=int,default=5)\n",
    "parser_debug.add_argument('--log_dir',type=str)\n",
    "parser_debug.add_argument('--save_every',type=int,default=1000)"
   ]
  },
  {
   "cell_type": "code",
   "execution_count": null,
   "metadata": {},
   "outputs": [],
   "source": [
    "# create features and labels by shifting data, specifically,\n",
    "# exclude last row vector=visits for features, and exclude first row vector=0 for labels\n",
    "\n",
    "# must do pca after this\n",
    "def create_datasets(tensor):\n",
    "    x_train = tensor[:,:]\n",
    "\n",
    "# time series sequence prediction\n",
    "\n",
    "# time series sequence classifcation\n",
    "\n",
    "# time series sequence meta-learning, determine disease labels"
   ]
  }
 ],
 "metadata": {
  "kernelspec": {
   "display_name": "Python 3",
   "language": "python",
   "name": "python3"
  },
  "language_info": {
   "codemirror_mode": {
    "name": "ipython",
    "version": 3
   },
   "file_extension": ".py",
   "mimetype": "text/x-python",
   "name": "python",
   "nbconvert_exporter": "python",
   "pygments_lexer": "ipython3",
   "version": "3.7.7"
  }
 },
 "nbformat": 4,
 "nbformat_minor": 4
}
